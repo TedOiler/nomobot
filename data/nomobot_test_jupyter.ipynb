{
 "cells": [
  {
   "cell_type": "code",
   "execution_count": 55,
   "metadata": {
    "collapsed": true
   },
   "outputs": [],
   "source": [
    "from nomobot_test_scraper import run_selenium_cycle\n",
    "from selenium import webdriver\n",
    "from selenium.webdriver.common.keys import Keys\n",
    "from selenium.webdriver.common.by import By\n",
    "from selenium.webdriver.support.wait import WebDriverWait\n",
    "from selenium.webdriver.support import expected_conditions as EC\n",
    "import os\n",
    "from selenium.webdriver.firefox.options import Options\n",
    "import time\n",
    "from datetime import date\n",
    "import pandas as pd\n",
    "from selenium.webdriver.chrome.service import Service\n",
    "from webdriver_manager.chrome import ChromeDriverManager"
   ]
  },
  {
   "cell_type": "code",
   "execution_count": 56,
   "outputs": [],
   "source": [
    "data = pd.read_csv('εκκρεμείς.csv')"
   ],
   "metadata": {
    "collapsed": false
   }
  },
  {
   "cell_type": "code",
   "execution_count": 57,
   "outputs": [
    {
     "name": "stdout",
     "output_type": "stream",
     "text": [
      "89986/2022 22/2023 - ΑΠΟΡΡΙΠΤΕΙ\n",
      "633/2022  \n",
      "18/2022  \n",
      "1234/2020  \n",
      "1235/2020  \n",
      "1879/2017 185/2023 - Απορρίπτει , Κατάθεση παραβόλου\n",
      "292/2020 1669/2022 - Απορρίπτει , Απαράδεκτη , Κατάθεση παραβόλου\n",
      "372/2021  \n",
      "373/2021  \n",
      "1206/2021  \n",
      "1685/2021  \n",
      "1684/2021  \n",
      "7318/2019  \n",
      "7494/2021  \n",
      "5722/2019 416/2023 - ΔΗΜΟΣΙΕΥΣΗ\n",
      "7975/2017  \n",
      "2714/2021  \n",
      "7889/2020 4824/2022 - ΔΗΜΟΣΙΕΥΣΗ\n",
      "2514/2021  \n",
      "465/2021  \n",
      "8072/2020  \n",
      "5896/2020  \n",
      "68101/2018  \n",
      "115148/2019 13740/2022 - ΚΗΡΥΣΣΕΙ ΑΠΑΡΑΔΕΚΤΟ\n",
      "34359/2021  \n",
      "27552/2021  \n",
      "19797/2021 578/2023 - ΑΠΟΡΡΙΠΤΕΙ ΑΝΑΚΟΠΗ\n",
      "73863/2019  \n",
      "23718/2022  \n",
      "5212/2018  \n",
      "7394/2019  \n"
     ]
    }
   ],
   "source": [
    "browser = webdriver.Chrome(service=Service(ChromeDriverManager().install()))\n",
    "\n",
    "data_out = []\n",
    "browser.get(\"https://extapps.solon.gov.gr/mojwp/faces/TrackLdoPublic\")\n",
    "for iteration, row in data.iterrows():\n",
    "    court = browser.find_element(By.XPATH, '//*[@id=\"courtOfficeOC::content\"]')\n",
    "    court.send_keys(Keys.COMMAND + 'a' + Keys.DELETE)\n",
    "    # court.send_keys(Keys.CONTROL + 'a' + Keys.DELETE)\n",
    "    court.send_keys(str(row['Court']) + Keys.RETURN)\n",
    "    time.sleep(1)\n",
    "    gak = browser.find_element(By.XPATH, '//*[@id=\"it1::content\"]')\n",
    "    gak.send_keys(Keys.COMMAND + 'a' + Keys.DELETE)\n",
    "    # gak.send_keys(Keys.CONTROL + 'a' + Keys.DELETE)\n",
    "    gak.send_keys(str(row['GAK']) + Keys.RETURN)\n",
    "    time.sleep(1)\n",
    "    year = browser.find_element(By.XPATH, '//*[@id=\"it2::content\"]')\n",
    "    year.send_keys(Keys.COMMAND + 'a' + Keys.DELETE)\n",
    "    # year.send_keys(Keys.CONTROL + 'a' + Keys.DELETE)\n",
    "    year.send_keys(str(row['Year']) + Keys.RETURN)\n",
    "    browser.find_element(By.XPATH, '//*[@id=\"ldoSearch\"]/a/span').click()\n",
    "    time.sleep(2)\n",
    "\n",
    "    # WebDriverWait(browser, 5).until(EC.presence_of_element_located((By.CSS_SELECTOR, '#pc1\\:ldoTable\\:\\:db > table > tbody > tr > td.x14g > span')))\n",
    "    selector = '#pc1\\:ldoTable\\:\\:db > table > tbody > tr > td:nth-child(2) > div > table > tbody > tr > td:nth-child(1) > span'\n",
    "    gak_year = str(row['GAK'])+'/'+str(row['Year'])\n",
    "    WebDriverWait(browser, 30).until(lambda browser: browser.find_element(By.CSS_SELECTOR, selector).text == gak_year)\n",
    "    # WebDriverWait(browser, 5).until(EC.presence_of_element_located((By.CSS_SELECTOR, selector)))\n",
    "\n",
    "    # empty_table = browser.find_element(By.CSS_SELECTOR, '#pc1\\:ldoTable')\n",
    "    table_code = browser.find_element(By.CSS_SELECTOR,'#pb2\\:\\:content')\n",
    "    scraped_number = browser.find_element(By.CSS_SELECTOR,\n",
    "                                          '#pc1\\:ldoTable\\:\\:db > table > tbody > tr > td:nth-child(2) > div > table > tbody > tr > td:nth-child(1)').text\n",
    "    time.sleep(1)\n",
    "\n",
    "    if iteration==0:\n",
    "        columns_xpaths_list = ['//*[@id=\"pc1:_shwClmc11\"]/td[2]',\n",
    "                               '//*[@id=\"pc1:_shwClmc9\"]/td[2]',\n",
    "                               '//*[@id=\"pc1:_shwClmc6\"]/td[2]',\n",
    "                               '//*[@id=\"pc1:_shwClmc7\"]/td[2]']\n",
    "\n",
    "        for col in columns_xpaths_list:\n",
    "            browser.find_element(By.XPATH, '//*[@id=\"pc1:_vw\"]/div/table/tbody/tr/td[2]/a').click()\n",
    "            time.sleep(0.5)\n",
    "            browser.find_element(By.XPATH, '//*[@id=\"pc1:_clmns\"]/td[2]').click()\n",
    "            time.sleep(0.5)\n",
    "            WebDriverWait(browser, 30).until(lambda browser: browser.find_element(By.CSS_SELECTOR, selector).text == gak_year)\n",
    "            browser.find_element(By.XPATH, col).click()\n",
    "            time.sleep(3)\n",
    "\n",
    "    time.sleep(3)\n",
    "    result = browser.find_element(By.CSS_SELECTOR,\n",
    "                                  '#pc1\\:ldoTable\\:\\:db > table > tbody > tr > td:nth-child(2) > div > table > tbody > tr > td:nth-child(4)').text\n",
    "\n",
    "    print(scraped_number, result)\n",
    "#\n",
    "#     data_out.append([row['Court'], row['GAK'], row['Year'], scraped_number.text, result.text, date.today()])\n",
    "#     # browser.execute_script(\"location.reload()\")\n",
    "#     # browser.get(\"https://extapps.solon.gov.gr/mojwp/faces/TrackLdoPublic\")\n",
    "# data_out_df = pd.DataFrame(data_out, columns=['Court', 'GAK', 'Year', 'Scraped_GAK', 'Result', 'Date'])\n",
    "# data_out_df.to_csv('./data/data_out.csv', index=False)\n",
    "browser.close()"
   ],
   "metadata": {
    "collapsed": false
   }
  },
  {
   "cell_type": "code",
   "execution_count": null,
   "outputs": [],
   "source": [],
   "metadata": {
    "collapsed": false
   }
  }
 ],
 "metadata": {
  "kernelspec": {
   "display_name": "Python 3",
   "language": "python",
   "name": "python3"
  },
  "language_info": {
   "codemirror_mode": {
    "name": "ipython",
    "version": 2
   },
   "file_extension": ".py",
   "mimetype": "text/x-python",
   "name": "python",
   "nbconvert_exporter": "python",
   "pygments_lexer": "ipython2",
   "version": "2.7.6"
  }
 },
 "nbformat": 4,
 "nbformat_minor": 0
}
